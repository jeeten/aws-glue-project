{
 "cells": [],
 "metadata": {
  "kernelspec": {
   "display_name": "Glue Spark",
   "language": "scala",
   "name": "glue_spark"
  },
  "language_info": {
   "codemirror_mode": {
    "name": "python",
    "version": 3
   },
   "file_extension": ".py",
   "mimetype": "text/x-python",
   "name": "scala",
   "pygments_lexer": "python3"
  }
 },
 "nbformat": 4,
 "nbformat_minor": 5
}
