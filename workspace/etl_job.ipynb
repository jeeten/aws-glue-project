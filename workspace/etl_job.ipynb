{
 "cells": [
  {
   "cell_type": "code",
   "execution_count": 1,
   "id": "81c6af9b-490e-4f1f-bd60-27993216f007",
   "metadata": {},
   "outputs": [
    {
     "name": "stdout",
     "output_type": "stream",
     "text": [
      "Welcome to the Glue Interactive Sessions Kernel\n",
      "For more information on available magic commands, please type %help in any new cell.\n",
      "\n",
      "Please view our Getting Started page to access the most up-to-date information on the Interactive Sessions kernel: https://docs.aws.amazon.com/glue/latest/dg/interactive-sessions.html\n",
      "Trying to create a Glue session for the kernel.\n",
      "Session Type: etl\n",
      "Session ID: 299a77ac-15f4-493c-a38e-07051c7ae503\n",
      "Applying the following default arguments:\n",
      "--glue_kernel_version 1.0.8\n",
      "--enable-glue-datacatalog true\n"
     ]
    },
    {
     "name": "stderr",
     "output_type": "stream",
     "text": [
      "Following exception encountered while creating session: An error occurred (AccessDeniedException) when calling the CreateSession operation: Account 248189927181 is denied access. \n",
      "\n",
      "Error message: Account 248189927181 is denied access. \n",
      "\n",
      "Traceback (most recent call last):\n",
      "  File \"/media/dasarrathi/Shared2/Projects/AWS/python_app/data_engineer/venv3.10/lib/python3.10/site-packages/aws_glue_interactive_sessions_kernel/glue_kernel_utils/KernelGateway.py\", line 104, in create_session\n",
      "    response = self.glue_client.create_session(\n",
      "  File \"/media/dasarrathi/Shared2/Projects/AWS/python_app/data_engineer/venv3.10/lib/python3.10/site-packages/botocore/client.py\", line 569, in _api_call\n",
      "    return self._make_api_call(operation_name, kwargs)\n",
      "  File \"/media/dasarrathi/Shared2/Projects/AWS/python_app/data_engineer/venv3.10/lib/python3.10/site-packages/botocore/client.py\", line 1023, in _make_api_call\n",
      "    raise error_class(parsed_response, operation_name)\n",
      "botocore.errorfactory.AccessDeniedException: An error occurred (AccessDeniedException) when calling the CreateSession operation: Account 248189927181 is denied access.\n",
      "Exception encountered while creating session: An error occurred (AccessDeniedException) when calling the CreateSession operation: Account 248189927181 is denied access. \n",
      "Traceback (most recent call last):\n",
      "  File \"/media/dasarrathi/Shared2/Projects/AWS/python_app/data_engineer/venv3.10/lib/python3.10/site-packages/aws_glue_interactive_sessions_kernel/glue_kernel_base/BaseKernel.py\", line 170, in do_execute\n",
      "    self.create_session()\n",
      "  File \"/media/dasarrathi/Shared2/Projects/AWS/python_app/data_engineer/venv3.10/lib/python3.10/site-packages/aws_glue_interactive_sessions_kernel/glue_kernel_base/BaseKernel.py\", line 594, in create_session\n",
      "    response = self.kernel_gateway.create_session(\n",
      "  File \"/media/dasarrathi/Shared2/Projects/AWS/python_app/data_engineer/venv3.10/lib/python3.10/site-packages/aws_glue_interactive_sessions_kernel/glue_kernel_utils/KernelGateway.py\", line 104, in create_session\n",
      "    response = self.glue_client.create_session(\n",
      "  File \"/media/dasarrathi/Shared2/Projects/AWS/python_app/data_engineer/venv3.10/lib/python3.10/site-packages/botocore/client.py\", line 569, in _api_call\n",
      "    return self._make_api_call(operation_name, kwargs)\n",
      "  File \"/media/dasarrathi/Shared2/Projects/AWS/python_app/data_engineer/venv3.10/lib/python3.10/site-packages/botocore/client.py\", line 1023, in _make_api_call\n",
      "    raise error_class(parsed_response, operation_name)\n",
      "botocore.errorfactory.AccessDeniedException: An error occurred (AccessDeniedException) when calling the CreateSession operation: Account 248189927181 is denied access.\n"
     ]
    }
   ],
   "source": [
    "import sys\n",
    "from awsglue.transforms import *\n",
    "from awsglue.utils import getResolvedOptions\n",
    "from pyspark.context import SparkContext\n",
    "from awsglue.context import GlueContext\n",
    "from awsglue.job import Job\n",
    "glueContext = GlueContext(SparkContext.getOrCreate())\n",
    "\n",
    "medicare_dynamicframe = glueContext.create_dynamic_frame.from_options(\n",
    "    's3',\n",
    "    {'paths': ['s3://awsglue-datasets/examples/medicare/Medicare_Hospital_Provider.csv']},\n",
    "    'csv',\n",
    "    {'withHeader': True})\n",
    "print(\"Count:\",medicare_dynamicframe.count())\n",
    "medicare_dynamicframe.printSchema()\n",
    "\n",
    "medicare_res = medicare_dynamicframe.resolveChoice(specs = [('Provider Id','cast:long')])\n",
    "medicare_res.printSchema()\n",
    "\n",
    "\n",
    "medicare_res.toDF().select('Provider Name').show(10,truncate=False)\n",
    "\n"
   ]
  },
  {
   "cell_type": "code",
   "execution_count": 2,
   "id": "1b8e0069-adc6-452a-aa26-7ba55cc623ea",
   "metadata": {},
   "outputs": [
    {
     "name": "stdout",
     "output_type": "stream",
     "text": [
      "Trying to create a Glue session for the kernel.\n",
      "Session Type: etl\n",
      "Session ID: 299a77ac-15f4-493c-a38e-07051c7ae503\n",
      "Applying the following default arguments:\n",
      "--glue_kernel_version 1.0.8\n",
      "--enable-glue-datacatalog true\n"
     ]
    },
    {
     "name": "stderr",
     "output_type": "stream",
     "text": [
      "Following exception encountered while creating session: An error occurred (AccessDeniedException) when calling the CreateSession operation: Account 248189927181 is denied access. \n",
      "\n",
      "Error message: Account 248189927181 is denied access. \n",
      "\n",
      "Traceback (most recent call last):\n",
      "  File \"/media/dasarrathi/Shared2/Projects/AWS/python_app/data_engineer/venv3.10/lib/python3.10/site-packages/aws_glue_interactive_sessions_kernel/glue_kernel_utils/KernelGateway.py\", line 104, in create_session\n",
      "    response = self.glue_client.create_session(\n",
      "  File \"/media/dasarrathi/Shared2/Projects/AWS/python_app/data_engineer/venv3.10/lib/python3.10/site-packages/botocore/client.py\", line 569, in _api_call\n",
      "    return self._make_api_call(operation_name, kwargs)\n",
      "  File \"/media/dasarrathi/Shared2/Projects/AWS/python_app/data_engineer/venv3.10/lib/python3.10/site-packages/botocore/client.py\", line 1023, in _make_api_call\n",
      "    raise error_class(parsed_response, operation_name)\n",
      "botocore.errorfactory.AccessDeniedException: An error occurred (AccessDeniedException) when calling the CreateSession operation: Account 248189927181 is denied access.\n",
      "Exception encountered while creating session: An error occurred (AccessDeniedException) when calling the CreateSession operation: Account 248189927181 is denied access. \n",
      "Traceback (most recent call last):\n",
      "  File \"/media/dasarrathi/Shared2/Projects/AWS/python_app/data_engineer/venv3.10/lib/python3.10/site-packages/aws_glue_interactive_sessions_kernel/glue_kernel_base/BaseKernel.py\", line 170, in do_execute\n",
      "    self.create_session()\n",
      "  File \"/media/dasarrathi/Shared2/Projects/AWS/python_app/data_engineer/venv3.10/lib/python3.10/site-packages/aws_glue_interactive_sessions_kernel/glue_kernel_base/BaseKernel.py\", line 594, in create_session\n",
      "    response = self.kernel_gateway.create_session(\n",
      "  File \"/media/dasarrathi/Shared2/Projects/AWS/python_app/data_engineer/venv3.10/lib/python3.10/site-packages/aws_glue_interactive_sessions_kernel/glue_kernel_utils/KernelGateway.py\", line 104, in create_session\n",
      "    response = self.glue_client.create_session(\n",
      "  File \"/media/dasarrathi/Shared2/Projects/AWS/python_app/data_engineer/venv3.10/lib/python3.10/site-packages/botocore/client.py\", line 569, in _api_call\n",
      "    return self._make_api_call(operation_name, kwargs)\n",
      "  File \"/media/dasarrathi/Shared2/Projects/AWS/python_app/data_engineer/venv3.10/lib/python3.10/site-packages/botocore/client.py\", line 1023, in _make_api_call\n",
      "    raise error_class(parsed_response, operation_name)\n",
      "botocore.errorfactory.AccessDeniedException: An error occurred (AccessDeniedException) when calling the CreateSession operation: Account 248189927181 is denied access.\n"
     ]
    }
   ],
   "source": [
    "import sys\n",
    "from awsglue.transforms import *\n",
    "from awsglue.utils import getResolvedOptions\n",
    "from pyspark.context import SparkContext\n",
    "from awsglue.context import GlueContext\n",
    "from awsglue.job import Job\n",
    "glueContext = GlueContext(SparkContext.getOrCreate())\n",
    "\n",
    "medicare_dynamicframe = glueContext.create_dynamic_frame.from_options(\n",
    "    's3',\n",
    "    {'paths': ['s3://awsglue-datasets/examples/medicare/Medicare_Hospital_Provider.csv']},\n",
    "    'csv',\n",
    "    {'withHeader': True})\n",
    "print(\"Count:\",medicare_dynamicframe.count())\n",
    "medicare_dynamicframe.printSchema()\n",
    "\n",
    "medicare_res = medicare_dynamicframe.resolveChoice(specs = [('Provider Id','cast:long')])\n",
    "medicare_res.printSchema()\n",
    "\n",
    "\n",
    "medicare_res.toDF().select('Provider Name').show(10,truncate=False)\n",
    "\n"
   ]
  },
  {
   "cell_type": "code",
   "execution_count": 2,
   "id": "99298482-e7af-4c8c-84b5-ec5ce7d136ce",
   "metadata": {},
   "outputs": [
    {
     "name": "stdout",
     "output_type": "stream",
     "text": [
      "Trying to create a Glue session for the kernel.\n",
      "Session Type: etl\n",
      "Session ID: 8725f5c1-be0e-490b-8a8c-3a88cc70d6b9\n",
      "Applying the following default arguments:\n",
      "--glue_kernel_version 1.0.8\n",
      "--enable-glue-datacatalog true\n"
     ]
    },
    {
     "name": "stderr",
     "output_type": "stream",
     "text": [
      "Following exception encountered while creating session: An error occurred (AccessDeniedException) when calling the CreateSession operation: Account 248189927181 is denied access. \n",
      "\n",
      "Error message: Account 248189927181 is denied access. \n",
      "\n",
      "Traceback (most recent call last):\n",
      "  File \"/media/dasarrathi/Shared2/Projects/AWS/python_app/data_engineer/venv3.10/lib/python3.10/site-packages/aws_glue_interactive_sessions_kernel/glue_kernel_utils/KernelGateway.py\", line 104, in create_session\n",
      "    response = self.glue_client.create_session(\n",
      "  File \"/media/dasarrathi/Shared2/Projects/AWS/python_app/data_engineer/venv3.10/lib/python3.10/site-packages/botocore/client.py\", line 569, in _api_call\n",
      "    return self._make_api_call(operation_name, kwargs)\n",
      "  File \"/media/dasarrathi/Shared2/Projects/AWS/python_app/data_engineer/venv3.10/lib/python3.10/site-packages/botocore/client.py\", line 1023, in _make_api_call\n",
      "    raise error_class(parsed_response, operation_name)\n",
      "botocore.errorfactory.AccessDeniedException: An error occurred (AccessDeniedException) when calling the CreateSession operation: Account 248189927181 is denied access.\n",
      "Exception encountered while creating session: An error occurred (AccessDeniedException) when calling the CreateSession operation: Account 248189927181 is denied access. \n",
      "Traceback (most recent call last):\n",
      "  File \"/media/dasarrathi/Shared2/Projects/AWS/python_app/data_engineer/venv3.10/lib/python3.10/site-packages/aws_glue_interactive_sessions_kernel/glue_kernel_base/BaseKernel.py\", line 170, in do_execute\n",
      "    self.create_session()\n",
      "  File \"/media/dasarrathi/Shared2/Projects/AWS/python_app/data_engineer/venv3.10/lib/python3.10/site-packages/aws_glue_interactive_sessions_kernel/glue_kernel_base/BaseKernel.py\", line 594, in create_session\n",
      "    response = self.kernel_gateway.create_session(\n",
      "  File \"/media/dasarrathi/Shared2/Projects/AWS/python_app/data_engineer/venv3.10/lib/python3.10/site-packages/aws_glue_interactive_sessions_kernel/glue_kernel_utils/KernelGateway.py\", line 104, in create_session\n",
      "    response = self.glue_client.create_session(\n",
      "  File \"/media/dasarrathi/Shared2/Projects/AWS/python_app/data_engineer/venv3.10/lib/python3.10/site-packages/botocore/client.py\", line 569, in _api_call\n",
      "    return self._make_api_call(operation_name, kwargs)\n",
      "  File \"/media/dasarrathi/Shared2/Projects/AWS/python_app/data_engineer/venv3.10/lib/python3.10/site-packages/botocore/client.py\", line 1023, in _make_api_call\n",
      "    raise error_class(parsed_response, operation_name)\n",
      "botocore.errorfactory.AccessDeniedException: An error occurred (AccessDeniedException) when calling the CreateSession operation: Account 248189927181 is denied access.\n"
     ]
    }
   ],
   "source": [
    "import sys\n",
    "from awsglue.transforms import *\n",
    "from awsglue.utils import getResolvedOptions\n",
    "from pyspark.context import SparkContext\n",
    "from awsglue.context import GlueContext\n",
    "from awsglue.job import Job\n",
    "glueContext = GlueContext(SparkContext.getOrCreate())\n",
    "\n",
    "medicare_dynamicframe = glueContext.create_dynamic_frame.from_options(\n",
    "    's3',\n",
    "    {'paths': ['s3://awsglue-datasets/examples/medicare/Medicare_Hospital_Provider.csv']},\n",
    "    'csv',\n",
    "    {'withHeader': True})\n",
    "print(\"Count:\",medicare_dynamicframe.count())\n",
    "medicare_dynamicframe.printSchema()\n",
    "\n",
    "medicare_res = medicare_dynamicframe.resolveChoice(specs = [('Provider Id','cast:long')])\n",
    "medicare_res.printSchema()\n",
    "\n",
    "\n",
    "medicare_res.toDF().select('Provider Name').show(10,truncate=False)\n",
    "\n",
    "\n"
   ]
  },
  {
   "cell_type": "code",
   "execution_count": null,
   "id": "992642c0-9e4f-4738-977b-6cf9f8ca84e7",
   "metadata": {},
   "outputs": [],
   "source": []
  }
 ],
 "metadata": {
  "kernelspec": {
   "display_name": "Glue PySpark",
   "language": "python",
   "name": "glue_pyspark"
  },
  "language_info": {
   "codemirror_mode": {
    "name": "python",
    "version": 3
   },
   "file_extension": ".py",
   "mimetype": "text/x-python",
   "name": "Python_Glue_Session",
   "pygments_lexer": "python3"
  }
 },
 "nbformat": 4,
 "nbformat_minor": 5
}
